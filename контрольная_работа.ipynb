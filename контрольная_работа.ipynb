{
  "nbformat": 4,
  "nbformat_minor": 0,
  "metadata": {
    "colab": {
      "provenance": [],
      "authorship_tag": "ABX9TyNh473tfeE//zrSZwza+3hm"
    },
    "kernelspec": {
      "name": "python3",
      "display_name": "Python 3"
    },
    "language_info": {
      "name": "python"
    }
  },
  "cells": [
    {
      "cell_type": "markdown",
      "source": [
        " **В первой ячейке импортируются все необходимые библиотеки для дальнейшей работы с датасетом**"
      ],
      "metadata": {
        "id": "jg2K0wDKWto2"
      }
    },
    {
      "cell_type": "code",
      "execution_count": null,
      "metadata": {
        "id": "SB5kOXFSx08r"
      },
      "outputs": [],
      "source": [
        "import pandas as pd\n",
        "import re\n",
        "import numpy as np\n",
        "from sklearn.model_selection import learning_curve\n",
        "import matplotlib.pyplot as plt\n",
        "from sklearn.feature_extraction.text import CountVectorizer, TfidfVectorizer\n",
        "from sklearn.model_selection import train_test_split, GridSearchCV\n",
        "from sklearn.naive_bayes import MultinomialNB\n",
        "from sklearn.pipeline import Pipeline\n",
        "from sklearn.model_selection import validation_curve\n"
      ]
    },
    {
      "cell_type": "markdown",
      "source": [
        "**Во второй ячейке добавляется необходимый датасет и удаляется колонка 'filename', которая не нужна для дальнейшей работы**"
      ],
      "metadata": {
        "id": "MGTSaYvbYGcw"
      }
    },
    {
      "cell_type": "code",
      "source": [
        "df = pd.read_csv('bbc-news-data.csv',sep='\\t')\n",
        "df = df.drop(columns=['filename'])\n",
        "df"
      ],
      "metadata": {
        "colab": {
          "base_uri": "https://localhost:8080/",
          "height": 424
        },
        "id": "StDRfgaOynyi",
        "outputId": "e138e989-d5ea-47a3-ce46-c7ce1a9acb5c"
      },
      "execution_count": null,
      "outputs": [
        {
          "output_type": "execute_result",
          "data": {
            "text/plain": [
              "      category                              title  \\\n",
              "0     business  Ad sales boost Time Warner profit   \n",
              "1     business   Dollar gains on Greenspan speech   \n",
              "2     business  Yukos unit buyer faces loan claim   \n",
              "3     business  High fuel prices hit BA's profits   \n",
              "4     business  Pernod takeover talk lifts Domecq   \n",
              "...        ...                                ...   \n",
              "2220      tech   BT program to beat dialler scams   \n",
              "2221      tech    Spam e-mails tempt net shoppers   \n",
              "2222      tech            Be careful how you code   \n",
              "2223      tech    US cyber security chief resigns   \n",
              "2224      tech   Losing yourself in online gaming   \n",
              "\n",
              "                                                content  \n",
              "0      Quarterly profits at US media giant TimeWarne...  \n",
              "1      The dollar has hit its highest level against ...  \n",
              "2      The owners of embattled Russian oil giant Yuk...  \n",
              "3      British Airways has blamed high fuel prices f...  \n",
              "4      Shares in UK drinks and food firm Allied Dome...  \n",
              "...                                                 ...  \n",
              "2220   BT is introducing two initiatives to help bea...  \n",
              "2221   Computer users across the world continue to i...  \n",
              "2222   A new European directive could put software w...  \n",
              "2223   The man making sure US computer networks are ...  \n",
              "2224   Online role playing games are time-consuming,...  \n",
              "\n",
              "[2225 rows x 3 columns]"
            ],
            "text/html": [
              "\n",
              "  <div id=\"df-0ed94e8f-cc02-4714-b208-14247213cd23\">\n",
              "    <div class=\"colab-df-container\">\n",
              "      <div>\n",
              "<style scoped>\n",
              "    .dataframe tbody tr th:only-of-type {\n",
              "        vertical-align: middle;\n",
              "    }\n",
              "\n",
              "    .dataframe tbody tr th {\n",
              "        vertical-align: top;\n",
              "    }\n",
              "\n",
              "    .dataframe thead th {\n",
              "        text-align: right;\n",
              "    }\n",
              "</style>\n",
              "<table border=\"1\" class=\"dataframe\">\n",
              "  <thead>\n",
              "    <tr style=\"text-align: right;\">\n",
              "      <th></th>\n",
              "      <th>category</th>\n",
              "      <th>title</th>\n",
              "      <th>content</th>\n",
              "    </tr>\n",
              "  </thead>\n",
              "  <tbody>\n",
              "    <tr>\n",
              "      <th>0</th>\n",
              "      <td>business</td>\n",
              "      <td>Ad sales boost Time Warner profit</td>\n",
              "      <td>Quarterly profits at US media giant TimeWarne...</td>\n",
              "    </tr>\n",
              "    <tr>\n",
              "      <th>1</th>\n",
              "      <td>business</td>\n",
              "      <td>Dollar gains on Greenspan speech</td>\n",
              "      <td>The dollar has hit its highest level against ...</td>\n",
              "    </tr>\n",
              "    <tr>\n",
              "      <th>2</th>\n",
              "      <td>business</td>\n",
              "      <td>Yukos unit buyer faces loan claim</td>\n",
              "      <td>The owners of embattled Russian oil giant Yuk...</td>\n",
              "    </tr>\n",
              "    <tr>\n",
              "      <th>3</th>\n",
              "      <td>business</td>\n",
              "      <td>High fuel prices hit BA's profits</td>\n",
              "      <td>British Airways has blamed high fuel prices f...</td>\n",
              "    </tr>\n",
              "    <tr>\n",
              "      <th>4</th>\n",
              "      <td>business</td>\n",
              "      <td>Pernod takeover talk lifts Domecq</td>\n",
              "      <td>Shares in UK drinks and food firm Allied Dome...</td>\n",
              "    </tr>\n",
              "    <tr>\n",
              "      <th>...</th>\n",
              "      <td>...</td>\n",
              "      <td>...</td>\n",
              "      <td>...</td>\n",
              "    </tr>\n",
              "    <tr>\n",
              "      <th>2220</th>\n",
              "      <td>tech</td>\n",
              "      <td>BT program to beat dialler scams</td>\n",
              "      <td>BT is introducing two initiatives to help bea...</td>\n",
              "    </tr>\n",
              "    <tr>\n",
              "      <th>2221</th>\n",
              "      <td>tech</td>\n",
              "      <td>Spam e-mails tempt net shoppers</td>\n",
              "      <td>Computer users across the world continue to i...</td>\n",
              "    </tr>\n",
              "    <tr>\n",
              "      <th>2222</th>\n",
              "      <td>tech</td>\n",
              "      <td>Be careful how you code</td>\n",
              "      <td>A new European directive could put software w...</td>\n",
              "    </tr>\n",
              "    <tr>\n",
              "      <th>2223</th>\n",
              "      <td>tech</td>\n",
              "      <td>US cyber security chief resigns</td>\n",
              "      <td>The man making sure US computer networks are ...</td>\n",
              "    </tr>\n",
              "    <tr>\n",
              "      <th>2224</th>\n",
              "      <td>tech</td>\n",
              "      <td>Losing yourself in online gaming</td>\n",
              "      <td>Online role playing games are time-consuming,...</td>\n",
              "    </tr>\n",
              "  </tbody>\n",
              "</table>\n",
              "<p>2225 rows × 3 columns</p>\n",
              "</div>\n",
              "      <button class=\"colab-df-convert\" onclick=\"convertToInteractive('df-0ed94e8f-cc02-4714-b208-14247213cd23')\"\n",
              "              title=\"Convert this dataframe to an interactive table.\"\n",
              "              style=\"display:none;\">\n",
              "        \n",
              "  <svg xmlns=\"http://www.w3.org/2000/svg\" height=\"24px\"viewBox=\"0 0 24 24\"\n",
              "       width=\"24px\">\n",
              "    <path d=\"M0 0h24v24H0V0z\" fill=\"none\"/>\n",
              "    <path d=\"M18.56 5.44l.94 2.06.94-2.06 2.06-.94-2.06-.94-.94-2.06-.94 2.06-2.06.94zm-11 1L8.5 8.5l.94-2.06 2.06-.94-2.06-.94L8.5 2.5l-.94 2.06-2.06.94zm10 10l.94 2.06.94-2.06 2.06-.94-2.06-.94-.94-2.06-.94 2.06-2.06.94z\"/><path d=\"M17.41 7.96l-1.37-1.37c-.4-.4-.92-.59-1.43-.59-.52 0-1.04.2-1.43.59L10.3 9.45l-7.72 7.72c-.78.78-.78 2.05 0 2.83L4 21.41c.39.39.9.59 1.41.59.51 0 1.02-.2 1.41-.59l7.78-7.78 2.81-2.81c.8-.78.8-2.07 0-2.86zM5.41 20L4 18.59l7.72-7.72 1.47 1.35L5.41 20z\"/>\n",
              "  </svg>\n",
              "      </button>\n",
              "      \n",
              "  <style>\n",
              "    .colab-df-container {\n",
              "      display:flex;\n",
              "      flex-wrap:wrap;\n",
              "      gap: 12px;\n",
              "    }\n",
              "\n",
              "    .colab-df-convert {\n",
              "      background-color: #E8F0FE;\n",
              "      border: none;\n",
              "      border-radius: 50%;\n",
              "      cursor: pointer;\n",
              "      display: none;\n",
              "      fill: #1967D2;\n",
              "      height: 32px;\n",
              "      padding: 0 0 0 0;\n",
              "      width: 32px;\n",
              "    }\n",
              "\n",
              "    .colab-df-convert:hover {\n",
              "      background-color: #E2EBFA;\n",
              "      box-shadow: 0px 1px 2px rgba(60, 64, 67, 0.3), 0px 1px 3px 1px rgba(60, 64, 67, 0.15);\n",
              "      fill: #174EA6;\n",
              "    }\n",
              "\n",
              "    [theme=dark] .colab-df-convert {\n",
              "      background-color: #3B4455;\n",
              "      fill: #D2E3FC;\n",
              "    }\n",
              "\n",
              "    [theme=dark] .colab-df-convert:hover {\n",
              "      background-color: #434B5C;\n",
              "      box-shadow: 0px 1px 3px 1px rgba(0, 0, 0, 0.15);\n",
              "      filter: drop-shadow(0px 1px 2px rgba(0, 0, 0, 0.3));\n",
              "      fill: #FFFFFF;\n",
              "    }\n",
              "  </style>\n",
              "\n",
              "      <script>\n",
              "        const buttonEl =\n",
              "          document.querySelector('#df-0ed94e8f-cc02-4714-b208-14247213cd23 button.colab-df-convert');\n",
              "        buttonEl.style.display =\n",
              "          google.colab.kernel.accessAllowed ? 'block' : 'none';\n",
              "\n",
              "        async function convertToInteractive(key) {\n",
              "          const element = document.querySelector('#df-0ed94e8f-cc02-4714-b208-14247213cd23');\n",
              "          const dataTable =\n",
              "            await google.colab.kernel.invokeFunction('convertToInteractive',\n",
              "                                                     [key], {});\n",
              "          if (!dataTable) return;\n",
              "\n",
              "          const docLinkHtml = 'Like what you see? Visit the ' +\n",
              "            '<a target=\"_blank\" href=https://colab.research.google.com/notebooks/data_table.ipynb>data table notebook</a>'\n",
              "            + ' to learn more about interactive tables.';\n",
              "          element.innerHTML = '';\n",
              "          dataTable['output_type'] = 'display_data';\n",
              "          await google.colab.output.renderOutput(dataTable, element);\n",
              "          const docLink = document.createElement('div');\n",
              "          docLink.innerHTML = docLinkHtml;\n",
              "          element.appendChild(docLink);\n",
              "        }\n",
              "      </script>\n",
              "    </div>\n",
              "  </div>\n",
              "  "
            ]
          },
          "metadata": {},
          "execution_count": 72
        }
      ]
    },
    {
      "cell_type": "markdown",
      "source": [
        "**В третьей ячейке данные в датасете разделяются на обучающие и тестирующие наборы данных.**\n",
        "В данном случае переменная X представляет содержимое набора данных, а переменная Y представляет категорию."
      ],
      "metadata": {
        "id": "8YeIpfegYj0Y"
      }
    },
    {
      "cell_type": "code",
      "source": [
        "X = df['content']\n",
        "y = df['category']\n",
        "X_train, X_test, y_train, y_test = train_test_split(X, y, test_size=0.2, random_state=42)"
      ],
      "metadata": {
        "id": "OrJE-zdV2S6n"
      },
      "execution_count": null,
      "outputs": []
    },
    {
      "cell_type": "markdown",
      "source": [
        "**В четвертой ячейке** создается модел для машинного обучения с использованием scikit-learn*\n",
        "**CountVectorizer** - отвечает за преобразование текстовых данных в X_train в \n",
        "матрицу количества токенов.\n",
        "**MultinomialNB** - вляется классификатором, который будет использоваться для обучения модели машинного обучения. \n",
        "**model.fit(X_train, y_train)** - обучает модель\n"
      ],
      "metadata": {
        "id": "Z29hx0DOfmCi"
      }
    },
    {
      "cell_type": "code",
      "source": [
        "model = Pipeline([\n",
        "    ('vectorizer', CountVectorizer()),\n",
        "    ('classifier', MultinomialNB())\n",
        "])\n",
        "model.fit(X_train, y_train)"
      ],
      "metadata": {
        "colab": {
          "base_uri": "https://localhost:8080/",
          "height": 126
        },
        "id": "NkKVP6TtDq1R",
        "outputId": "2562eca6-7d77-4816-8636-c55fef94f58c"
      },
      "execution_count": null,
      "outputs": [
        {
          "output_type": "execute_result",
          "data": {
            "text/plain": [
              "Pipeline(steps=[('vectorizer', CountVectorizer()),\n",
              "                ('classifier', MultinomialNB())])"
            ],
            "text/html": [
              "<style>#sk-container-id-3 {color: black;background-color: white;}#sk-container-id-3 pre{padding: 0;}#sk-container-id-3 div.sk-toggleable {background-color: white;}#sk-container-id-3 label.sk-toggleable__label {cursor: pointer;display: block;width: 100%;margin-bottom: 0;padding: 0.3em;box-sizing: border-box;text-align: center;}#sk-container-id-3 label.sk-toggleable__label-arrow:before {content: \"▸\";float: left;margin-right: 0.25em;color: #696969;}#sk-container-id-3 label.sk-toggleable__label-arrow:hover:before {color: black;}#sk-container-id-3 div.sk-estimator:hover label.sk-toggleable__label-arrow:before {color: black;}#sk-container-id-3 div.sk-toggleable__content {max-height: 0;max-width: 0;overflow: hidden;text-align: left;background-color: #f0f8ff;}#sk-container-id-3 div.sk-toggleable__content pre {margin: 0.2em;color: black;border-radius: 0.25em;background-color: #f0f8ff;}#sk-container-id-3 input.sk-toggleable__control:checked~div.sk-toggleable__content {max-height: 200px;max-width: 100%;overflow: auto;}#sk-container-id-3 input.sk-toggleable__control:checked~label.sk-toggleable__label-arrow:before {content: \"▾\";}#sk-container-id-3 div.sk-estimator input.sk-toggleable__control:checked~label.sk-toggleable__label {background-color: #d4ebff;}#sk-container-id-3 div.sk-label input.sk-toggleable__control:checked~label.sk-toggleable__label {background-color: #d4ebff;}#sk-container-id-3 input.sk-hidden--visually {border: 0;clip: rect(1px 1px 1px 1px);clip: rect(1px, 1px, 1px, 1px);height: 1px;margin: -1px;overflow: hidden;padding: 0;position: absolute;width: 1px;}#sk-container-id-3 div.sk-estimator {font-family: monospace;background-color: #f0f8ff;border: 1px dotted black;border-radius: 0.25em;box-sizing: border-box;margin-bottom: 0.5em;}#sk-container-id-3 div.sk-estimator:hover {background-color: #d4ebff;}#sk-container-id-3 div.sk-parallel-item::after {content: \"\";width: 100%;border-bottom: 1px solid gray;flex-grow: 1;}#sk-container-id-3 div.sk-label:hover label.sk-toggleable__label {background-color: #d4ebff;}#sk-container-id-3 div.sk-serial::before {content: \"\";position: absolute;border-left: 1px solid gray;box-sizing: border-box;top: 0;bottom: 0;left: 50%;z-index: 0;}#sk-container-id-3 div.sk-serial {display: flex;flex-direction: column;align-items: center;background-color: white;padding-right: 0.2em;padding-left: 0.2em;position: relative;}#sk-container-id-3 div.sk-item {position: relative;z-index: 1;}#sk-container-id-3 div.sk-parallel {display: flex;align-items: stretch;justify-content: center;background-color: white;position: relative;}#sk-container-id-3 div.sk-item::before, #sk-container-id-3 div.sk-parallel-item::before {content: \"\";position: absolute;border-left: 1px solid gray;box-sizing: border-box;top: 0;bottom: 0;left: 50%;z-index: -1;}#sk-container-id-3 div.sk-parallel-item {display: flex;flex-direction: column;z-index: 1;position: relative;background-color: white;}#sk-container-id-3 div.sk-parallel-item:first-child::after {align-self: flex-end;width: 50%;}#sk-container-id-3 div.sk-parallel-item:last-child::after {align-self: flex-start;width: 50%;}#sk-container-id-3 div.sk-parallel-item:only-child::after {width: 0;}#sk-container-id-3 div.sk-dashed-wrapped {border: 1px dashed gray;margin: 0 0.4em 0.5em 0.4em;box-sizing: border-box;padding-bottom: 0.4em;background-color: white;}#sk-container-id-3 div.sk-label label {font-family: monospace;font-weight: bold;display: inline-block;line-height: 1.2em;}#sk-container-id-3 div.sk-label-container {text-align: center;}#sk-container-id-3 div.sk-container {/* jupyter's `normalize.less` sets `[hidden] { display: none; }` but bootstrap.min.css set `[hidden] { display: none !important; }` so we also need the `!important` here to be able to override the default hidden behavior on the sphinx rendered scikit-learn.org. See: https://github.com/scikit-learn/scikit-learn/issues/21755 */display: inline-block !important;position: relative;}#sk-container-id-3 div.sk-text-repr-fallback {display: none;}</style><div id=\"sk-container-id-3\" class=\"sk-top-container\"><div class=\"sk-text-repr-fallback\"><pre>Pipeline(steps=[(&#x27;vectorizer&#x27;, CountVectorizer()),\n",
              "                (&#x27;classifier&#x27;, MultinomialNB())])</pre><b>In a Jupyter environment, please rerun this cell to show the HTML representation or trust the notebook. <br />On GitHub, the HTML representation is unable to render, please try loading this page with nbviewer.org.</b></div><div class=\"sk-container\" hidden><div class=\"sk-item sk-dashed-wrapped\"><div class=\"sk-label-container\"><div class=\"sk-label sk-toggleable\"><input class=\"sk-toggleable__control sk-hidden--visually\" id=\"sk-estimator-id-7\" type=\"checkbox\" ><label for=\"sk-estimator-id-7\" class=\"sk-toggleable__label sk-toggleable__label-arrow\">Pipeline</label><div class=\"sk-toggleable__content\"><pre>Pipeline(steps=[(&#x27;vectorizer&#x27;, CountVectorizer()),\n",
              "                (&#x27;classifier&#x27;, MultinomialNB())])</pre></div></div></div><div class=\"sk-serial\"><div class=\"sk-item\"><div class=\"sk-estimator sk-toggleable\"><input class=\"sk-toggleable__control sk-hidden--visually\" id=\"sk-estimator-id-8\" type=\"checkbox\" ><label for=\"sk-estimator-id-8\" class=\"sk-toggleable__label sk-toggleable__label-arrow\">CountVectorizer</label><div class=\"sk-toggleable__content\"><pre>CountVectorizer()</pre></div></div></div><div class=\"sk-item\"><div class=\"sk-estimator sk-toggleable\"><input class=\"sk-toggleable__control sk-hidden--visually\" id=\"sk-estimator-id-9\" type=\"checkbox\" ><label for=\"sk-estimator-id-9\" class=\"sk-toggleable__label sk-toggleable__label-arrow\">MultinomialNB</label><div class=\"sk-toggleable__content\"><pre>MultinomialNB()</pre></div></div></div></div></div></div></div>"
            ]
          },
          "metadata": {},
          "execution_count": 74
        }
      ]
    },
    {
      "cell_type": "markdown",
      "source": [
        "**В пятой ячейке** выполняется настройка гиперпараметров с использованием перекрестной проверки поиска по сетке\n",
        "**vectorizer__max_features** - Этот параметр определяет максимальное количество слов, которые необходимо сохранить в словаре, созданном CountVectorizer, далее поиск по сетке пытается обучить модель каждому из значений, чтобы найти оптимальное.\n",
        "**vectorizer__ngram_range** - Этот параметр определяет диапазон непрерывных последовательностей из n слов, которые должны учитываться CountVectorizer.\n",
        "**classifier__alpha** - Этот параметр управляет коэффициентом сглаживания MultinomialNB классификатор.\n",
        "**GridSearchCV** - функция используется для выполнения перекрестной проверки с 5 сгибами (cv=5), чтобы найти наилучшую комбинацию гиперпараметров, которая обеспечивает наивысшую точность перекрестной проверки. "
      ],
      "metadata": {
        "id": "uanZb_FchLpb"
      }
    },
    {
      "cell_type": "code",
      "source": [
        "parameters = { \n",
        "    'vectorizer__max_features': [2500, 5000, 10000], \n",
        "    'vectorizer__ngram_range': [(1, 1), (1, 2)], \n",
        "    'classifier__alpha': [0.1, 0.5, 1] \n",
        "}\n",
        "\n",
        "grid_search = GridSearchCV(model, parameters, cv=5)\n",
        "grid_search.fit(X_train, y_train)\n",
        "\n",
        "best_params = grid_search.best_params_\n",
        "print(\"Оптимальные значения: \", best_params)"
      ],
      "metadata": {
        "colab": {
          "base_uri": "https://localhost:8080/"
        },
        "id": "2lZyH1LsFQQI",
        "outputId": "b8870ea4-6fc9-47c8-adb2-0741d95cd1d6"
      },
      "execution_count": null,
      "outputs": [
        {
          "output_type": "stream",
          "name": "stdout",
          "text": [
            "Оптимальные значения:  {'classifier__alpha': 0.1, 'vectorizer__max_features': 10000, 'vectorizer__ngram_range': (1, 1)}\n"
          ]
        }
      ]
    },
    {
      "cell_type": "markdown",
      "source": [
        "**В шестой ячейке** отображается кривая валидация проверки для** max_features** гиперпараметра **CountVectorizer**\n",
        "Вычисленное среднее обучение и проверка **train_mean** и **test_mean**, соответственно, и **train_std** и **test_std**. Затем эти значения используются для построения кривой проверки с использованием функций **plt.plot** и **plt.fill_between.**\n",
        "в графике показано обучение **max_features** с заштрихованными областями, указывающими стандартное отклонение оценок."
      ],
      "metadata": {
        "id": "FsO4UpYKjLJ9"
      }
    },
    {
      "cell_type": "code",
      "source": [
        "max_features_range = np.arange(2500, 10001, 2500)\n",
        "train_scores, test_scores = validation_curve(\n",
        "    estimator=model, \n",
        "    X=X_train, \n",
        "    y=y_train, \n",
        "    param_name='vectorizer__max_features', \n",
        "    param_range=max_features_range, \n",
        "    cv=5\n",
        ")\n",
        "\n",
        "\n",
        "train_mean = np.mean(train_scores, axis=1) \n",
        "train_std = np.std(train_scores, axis=1) \n",
        "test_mean = np.mean(test_scores, axis=1) \n",
        "test_std = np.std(test_scores, axis=1)\n",
        "\n",
        "\n",
        "plt.figure(figsize=(8, 5)) \n",
        "plt.plot(max_features_range, train_mean, label='Training score', color='black') \n",
        "plt.fill_between(max_features_range, train_mean - train_std, train_mean + train_std, color='black', alpha=0.1) \n",
        "plt.plot(max_features_range, test_mean, label='Validation score', color='red') \n",
        "plt.fill_between(max_features_range, test_mean - test_std, test_mean + test_std, color='red', alpha=0.1) \n",
        "plt.title('Validation Curve for max_features') \n",
        "plt.xlabel('max_features') \n",
        "plt.ylabel('Accuracy') \n",
        "plt.legend(loc='best') \n",
        "plt.grid(True) \n",
        "plt.show()"
      ],
      "metadata": {
        "colab": {
          "base_uri": "https://localhost:8080/",
          "height": 487
        },
        "id": "qqcL9SvMSi5D",
        "outputId": "9a41c9c2-2aea-43c7-9bea-140d4b691210"
      },
      "execution_count": null,
      "outputs": [
        {
          "output_type": "display_data",
          "data": {
            "text/plain": [
              "<Figure size 800x500 with 1 Axes>"
            ],
            "image/png": "[encoded data removed]"
          },
          "metadata": {}
        }
      ]
    }
  ]
}